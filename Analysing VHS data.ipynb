{
 "cells": [
  {
   "cell_type": "code",
   "execution_count": 1,
   "id": "e246b4ec",
   "metadata": {},
   "outputs": [],
   "source": [
    "import pandas as pd\n",
    "import glob\n",
    "from datetime import datetime\n",
    "\n",
    "list_files=glob.glob(\"Prediction/*.csv\")"
   ]
  },
  {
   "cell_type": "code",
   "execution_count": 2,
   "id": "6bd2cedf",
   "metadata": {},
   "outputs": [
    {
     "name": "stdout",
     "output_type": "stream",
     "text": [
      "Prediction\\21311-0002 (1).csv\n",
      "Prediction\\21311-0002 (2).csv\n",
      "Prediction\\21311-0002 (3).csv\n",
      "Prediction\\21311-0002 (4).csv\n",
      "Prediction\\21311-0002 (5).csv\n"
     ]
    }
   ],
   "source": [
    "df_list=[]\n",
    "for i in list_files:\n",
    "    print(i)\n",
    "    df_list.append(pd.read_csv(i,encoding='latin1',sep=\";\",skiprows=7))"
   ]
  },
  {
   "cell_type": "code",
   "execution_count": 3,
   "id": "7843af46",
   "metadata": {},
   "outputs": [],
   "source": [
    "df=pd.concat(df_list)"
   ]
  },
  {
   "cell_type": "code",
   "execution_count": 4,
   "id": "ca3048cf",
   "metadata": {},
   "outputs": [
    {
     "data": {
      "text/html": [
       "<div>\n",
       "<style scoped>\n",
       "    .dataframe tbody tr th:only-of-type {\n",
       "        vertical-align: middle;\n",
       "    }\n",
       "\n",
       "    .dataframe tbody tr th {\n",
       "        vertical-align: top;\n",
       "    }\n",
       "\n",
       "    .dataframe thead th {\n",
       "        text-align: right;\n",
       "    }\n",
       "</style>\n",
       "<table border=\"1\" class=\"dataframe\">\n",
       "  <thead>\n",
       "    <tr style=\"text-align: right;\">\n",
       "      <th></th>\n",
       "      <th>Unnamed: 0</th>\n",
       "      <th>Unnamed: 1</th>\n",
       "      <th>Unnamed: 2</th>\n",
       "      <th>männlich</th>\n",
       "      <th>weiblich</th>\n",
       "      <th>Insgesamt</th>\n",
       "      <th>männlich.1</th>\n",
       "      <th>weiblich.1</th>\n",
       "      <th>Insgesamt.1</th>\n",
       "      <th>männlich.2</th>\n",
       "      <th>weiblich.2</th>\n",
       "      <th>Insgesamt.2</th>\n",
       "    </tr>\n",
       "  </thead>\n",
       "  <tbody>\n",
       "    <tr>\n",
       "      <th>0</th>\n",
       "      <td>WS 2011/12</td>\n",
       "      <td>HS1240</td>\n",
       "      <td>Universität Freiburg im Breisgau</td>\n",
       "      <td>9257</td>\n",
       "      <td>9722</td>\n",
       "      <td>18979</td>\n",
       "      <td>1464</td>\n",
       "      <td>1895</td>\n",
       "      <td>3359</td>\n",
       "      <td>10721</td>\n",
       "      <td>11617</td>\n",
       "      <td>22338</td>\n",
       "    </tr>\n",
       "    <tr>\n",
       "      <th>1</th>\n",
       "      <td>WS 2011/12</td>\n",
       "      <td>HS1250</td>\n",
       "      <td>Universität Heidelberg in Heidelberg</td>\n",
       "      <td>10640</td>\n",
       "      <td>12755</td>\n",
       "      <td>23395</td>\n",
       "      <td>1743</td>\n",
       "      <td>2909</td>\n",
       "      <td>4652</td>\n",
       "      <td>12383</td>\n",
       "      <td>15664</td>\n",
       "      <td>28047</td>\n",
       "    </tr>\n",
       "    <tr>\n",
       "      <th>2</th>\n",
       "      <td>WS 2011/12</td>\n",
       "      <td>HS1252</td>\n",
       "      <td>Universität Heidelberg in Mannheim</td>\n",
       "      <td>-</td>\n",
       "      <td>-</td>\n",
       "      <td>-</td>\n",
       "      <td>-</td>\n",
       "      <td>-</td>\n",
       "      <td>-</td>\n",
       "      <td>-</td>\n",
       "      <td>-</td>\n",
       "      <td>-</td>\n",
       "    </tr>\n",
       "    <tr>\n",
       "      <th>3</th>\n",
       "      <td>WS 2011/12</td>\n",
       "      <td>HS1800</td>\n",
       "      <td>Universität Hohenheim</td>\n",
       "      <td>3460</td>\n",
       "      <td>4362</td>\n",
       "      <td>7822</td>\n",
       "      <td>514</td>\n",
       "      <td>588</td>\n",
       "      <td>1102</td>\n",
       "      <td>3974</td>\n",
       "      <td>4950</td>\n",
       "      <td>8924</td>\n",
       "    </tr>\n",
       "    <tr>\n",
       "      <th>4</th>\n",
       "      <td>WS 2011/12</td>\n",
       "      <td>HS1580</td>\n",
       "      <td>Karlsruher Institut für Technologie, Karlsruhe...</td>\n",
       "      <td>14016</td>\n",
       "      <td>4726</td>\n",
       "      <td>18742</td>\n",
       "      <td>2295</td>\n",
       "      <td>1095</td>\n",
       "      <td>3390</td>\n",
       "      <td>16311</td>\n",
       "      <td>5821</td>\n",
       "      <td>22132</td>\n",
       "    </tr>\n",
       "  </tbody>\n",
       "</table>\n",
       "</div>"
      ],
      "text/plain": [
       "   Unnamed: 0 Unnamed: 1                                         Unnamed: 2  \\\n",
       "0  WS 2011/12     HS1240                   Universität Freiburg im Breisgau   \n",
       "1  WS 2011/12     HS1250               Universität Heidelberg in Heidelberg   \n",
       "2  WS 2011/12     HS1252                 Universität Heidelberg in Mannheim   \n",
       "3  WS 2011/12     HS1800                              Universität Hohenheim   \n",
       "4  WS 2011/12     HS1580  Karlsruher Institut für Technologie, Karlsruhe...   \n",
       "\n",
       "  männlich weiblich Insgesamt männlich.1 weiblich.1 Insgesamt.1 männlich.2  \\\n",
       "0     9257     9722     18979       1464       1895        3359      10721   \n",
       "1    10640    12755     23395       1743       2909        4652      12383   \n",
       "2        -        -         -          -          -           -          -   \n",
       "3     3460     4362      7822        514        588        1102       3974   \n",
       "4    14016     4726     18742       2295       1095        3390      16311   \n",
       "\n",
       "  weiblich.2 Insgesamt.2  \n",
       "0      11617       22338  \n",
       "1      15664       28047  \n",
       "2          -           -  \n",
       "3       4950        8924  \n",
       "4       5821       22132  "
      ]
     },
     "execution_count": 4,
     "metadata": {},
     "output_type": "execute_result"
    }
   ],
   "source": [
    "df.head()"
   ]
  },
  {
   "cell_type": "code",
   "execution_count": null,
   "id": "abdb6029",
   "metadata": {},
   "outputs": [],
   "source": []
  },
  {
   "cell_type": "code",
   "execution_count": 5,
   "id": "4f40f6fa",
   "metadata": {},
   "outputs": [],
   "source": [
    "df.columns=[\"semester\",\"ID\",\"University\",\"Deutsche männlich\",\"Deutsche weiblich\",\"Deutsche Insgesamt\",\"Ausländer männlich.1\",\"Ausländer weiblich\",\"Ausländer Insgesamt\",\"Ausländer männlich\",\"Ausländer weiblich\",\"Ausländer Insgesamt\"]"
   ]
  },
  {
   "cell_type": "code",
   "execution_count": 6,
   "id": "8b3e8322",
   "metadata": {},
   "outputs": [],
   "source": [
    "df=df[df[\"ID\"]==\"HS1240\"]"
   ]
  },
  {
   "cell_type": "code",
   "execution_count": 8,
   "id": "5c5830a0",
   "metadata": {},
   "outputs": [
    {
     "data": {
      "text/plain": [
       "array(['Universität Freiburg im Breisgau'], dtype=object)"
      ]
     },
     "execution_count": 8,
     "metadata": {},
     "output_type": "execute_result"
    }
   ],
   "source": [
    "df['University'].unique()"
   ]
  },
  {
   "cell_type": "code",
   "execution_count": null,
   "id": "15be9f94",
   "metadata": {},
   "outputs": [],
   "source": [
    "df[\"year\"]=df[\"semester\"].apply(lambda x:datetime.strptime(x[3:].split(\"/\")[0]+\"-01-01 00:00\", '%Y-%m-%d %H:%M'))"
   ]
  },
  {
   "cell_type": "code",
   "execution_count": null,
   "id": "1f1df05c",
   "metadata": {},
   "outputs": [],
   "source": [
    "df=df[[\"year\",\"Deutsche Insgesamt\"]].sort_values(\"year\").reset_index().drop(\"index\",axis=1)"
   ]
  },
  {
   "cell_type": "code",
   "execution_count": null,
   "id": "3ebc1eb8",
   "metadata": {},
   "outputs": [],
   "source": [
    "!pip install neuralprophet "
   ]
  },
  {
   "cell_type": "code",
   "execution_count": null,
   "id": "a7802d01",
   "metadata": {},
   "outputs": [],
   "source": [
    "new_column = df[[\"year\",\"Deutsche Insgesamt\"]] \n",
    "\n",
    "new_column.dropna(inplace=True)\n",
    "new_column.columns = ['ds', 'y'] \n",
    "new_column.tail()"
   ]
  },
  {
   "cell_type": "code",
   "execution_count": null,
   "id": "bca2d46d",
   "metadata": {},
   "outputs": [],
   "source": [
    "from neuralprophet import NeuralProphet"
   ]
  },
  {
   "cell_type": "code",
   "execution_count": null,
   "id": "f9606cab",
   "metadata": {},
   "outputs": [],
   "source": [
    " n = NeuralProphet()\n",
    "model = n.fit(new_column, freq='Y')"
   ]
  },
  {
   "cell_type": "code",
   "execution_count": null,
   "id": "34b5d177",
   "metadata": {},
   "outputs": [],
   "source": [
    "future = n.make_future_dataframe(new_column, periods=10)\n",
    "forecast = n.predict(future)"
   ]
  },
  {
   "cell_type": "code",
   "execution_count": null,
   "id": "0c421152",
   "metadata": {},
   "outputs": [],
   "source": [
    "new_column"
   ]
  },
  {
   "cell_type": "code",
   "execution_count": null,
   "id": "04c85cc4",
   "metadata": {},
   "outputs": [],
   "source": [
    "forecast['yhat1']=forecast['yhat1'].apply(lambda x:int(x))"
   ]
  },
  {
   "cell_type": "code",
   "execution_count": null,
   "id": "6b051d81",
   "metadata": {},
   "outputs": [],
   "source": [
    "forecast[['ds','yhat1']]"
   ]
  },
  {
   "cell_type": "code",
   "execution_count": null,
   "id": "8ae124b4",
   "metadata": {},
   "outputs": [],
   "source": []
  }
 ],
 "metadata": {
  "kernelspec": {
   "display_name": "Python 3 (ipykernel)",
   "language": "python",
   "name": "python3"
  },
  "language_info": {
   "codemirror_mode": {
    "name": "ipython",
    "version": 3
   },
   "file_extension": ".py",
   "mimetype": "text/x-python",
   "name": "python",
   "nbconvert_exporter": "python",
   "pygments_lexer": "ipython3",
   "version": "3.9.12"
  }
 },
 "nbformat": 4,
 "nbformat_minor": 5
}
